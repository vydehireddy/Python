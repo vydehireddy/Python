{
 "cells": [
  {
   "cell_type": "code",
   "execution_count": 3,
   "id": "caf5a6ba",
   "metadata": {},
   "outputs": [
    {
     "name": "stdout",
     "output_type": "stream",
     "text": [
      "person1 choose any one from rock,paper,scissor-rock\n",
      "person2 choose any one from rock,paper,scissor-scissor\n",
      "person1 is winner\n"
     ]
    }
   ],
   "source": [
    "person1=input(\"person1 choose any one from rock,paper,scissor-\") \n",
    "person2=input(\"person2 choose any one from rock,paper,scissor-\")\n",
    "if person1==\"rock\" and person2==\"scissor\":\n",
    "    print(\"person1 is winner\")\n",
    "elif person1==\"scissor\" and person2==\"paper\":\n",
    "    print (\"person1 is winner\")\n",
    "elif person1==\"rock\" and person2==\"paper\":\n",
    "    print(\"person2 is winner\")\n",
    "elif person1==\"scissor\" and person2==\"rock\":\n",
    "    print(\"person2 is winner\")\n",
    "elif person1==\"paper\" and person2==\"scissor\":\n",
    "    print(\"person2 is winner\")\n",
    "elif person1==\"paper\" and person2==\"rock\":\n",
    "    print(\"person1 is winner\")\n",
    "else:\n",
    "    print(\"wrong input\")"
   ]
  },
  {
   "cell_type": "code",
   "execution_count": null,
   "id": "df1aac3e",
   "metadata": {},
   "outputs": [],
   "source": []
  }
 ],
 "metadata": {
  "kernelspec": {
   "display_name": "Python 3 (ipykernel)",
   "language": "python",
   "name": "python3"
  },
  "language_info": {
   "codemirror_mode": {
    "name": "ipython",
    "version": 3
   },
   "file_extension": ".py",
   "mimetype": "text/x-python",
   "name": "python",
   "nbconvert_exporter": "python",
   "pygments_lexer": "ipython3",
   "version": "3.9.13"
  }
 },
 "nbformat": 4,
 "nbformat_minor": 5
}
