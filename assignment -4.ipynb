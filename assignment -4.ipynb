{
 "cells": [
  {
   "cell_type": "code",
   "execution_count": 1,
   "id": "220c771c",
   "metadata": {},
   "outputs": [
    {
     "data": {
      "text/plain": [
       "[1, 2, 3, 4, 7, 8, 9]"
      ]
     },
     "execution_count": 1,
     "metadata": {},
     "output_type": "execute_result"
    }
   ],
   "source": [
    "#1. Given a list of numbers, write a python program that returns a new list which Has all duplicate elements removed. And is sorted in an increasing order.\n",
    "\n",
    "a=[2,1,3,4,2,3,3,2,7,9,8,7]\n",
    "list(set(a))\n",
    "\n"
   ]
  },
  {
   "cell_type": "code",
   "execution_count": 2,
   "id": "b4649d00",
   "metadata": {},
   "outputs": [
    {
     "name": "stdout",
     "output_type": "stream",
     "text": [
      "1 sundhar\n",
      "2 vydehi\n",
      "3 akhila\n",
      "4 sanni\n"
     ]
    }
   ],
   "source": [
    "#2. Write a Python program where you will iterate over both keys and values in dictionaries. \n",
    "d={1:\"sundhar\",2:\"vydehi\",3:\"akhila\",4:\"sanni\"}\n",
    "for keys,values in d.items():\n",
    "    print(keys,values)"
   ]
  },
  {
   "cell_type": "code",
   "execution_count": 3,
   "id": "38076a19",
   "metadata": {},
   "outputs": [
    {
     "name": "stdout",
     "output_type": "stream",
     "text": [
      "['gephi', 'manoj', 'tarun']\n"
     ]
    }
   ],
   "source": [
    "#3. Write a Python program that takes a dictionary of student names and returns a list of student names in alphabetical order.\n",
    "d={\"student 1\":\"tarun\",\"student2\":\"manoj\",\"student3\":\"gephi\"}\n",
    "lis=[]\n",
    "for keys,values in d.items():\n",
    "    lis.append(values)\n",
    "    lis.sort()\n",
    "print(lis)\n",
    "\n",
    "\n",
    "\n"
   ]
  },
  {
   "cell_type": "code",
   "execution_count": 5,
   "id": "2063144b",
   "metadata": {},
   "outputs": [
    {
     "name": "stdout",
     "output_type": "stream",
     "text": [
      "['True', 'False', 'True', 'True', 'False']\n"
     ]
    }
   ],
   "source": [
    "#4. Write a Python which returns a new list of Booleans, from a given number. Iterating through the number one digit at a time, append True if the digit is 1 and False if it is 0.\n",
    "x=\"01001\"\n",
    "y=[]\n",
    "for i in x:\n",
    "    if i==\"1\":\n",
    "        y.append(\"False\")\n",
    "    elif i==\"0\":\n",
    "        y.append(\"True\")\n",
    "    \n",
    "print(y)\n",
    "\n"
   ]
  },
  {
   "cell_type": "code",
   "execution_count": 7,
   "id": "23f2a0d0",
   "metadata": {},
   "outputs": [
    {
     "name": "stdout",
     "output_type": "stream",
     "text": [
      "enter a stringdatascience\n",
      "{'d': 1, 'a': 2, 't': 1, 's': 1, 'c': 2, 'i': 1, 'e': 2, 'n': 1}\n"
     ]
    }
   ],
   "source": [
    "#5.Write a Python program where you will return a dictionary where the keys will be the character and the values will be the occurrence of the character in the string, and it should for any string inputs (dynamic).\n",
    "a=input(\"enter a string\")\n",
    "b={}\n",
    "for letters in a:\n",
    "    if letters!=\" \":\n",
    "        x=a.count(letters)\n",
    "        b.update({letters:x})\n",
    "print(b)\n"
   ]
  },
  {
   "cell_type": "code",
   "execution_count": 2,
   "id": "66b91f3a",
   "metadata": {},
   "outputs": [
    {
     "name": "stdout",
     "output_type": "stream",
     "text": [
      "Name : vydehi\n",
      "Age : 22\n",
      " type y to continue or n to stop : n\n",
      "Name : sundhar\n",
      "Age : 23\n",
      " type y to continue or n to stop : n\n",
      "Name : sanni\n",
      "Age : 30\n",
      " type y to continue or n to stop : n\n",
      "Name : akhila\n",
      "Age : 28\n",
      " type y to continue or n to stop : y\n",
      "{'vydehi': 22, 'sundhar': 23, 'sanni': 30, 'akhila': 28}\n",
      "\n",
      "The oldest person is --> sanni\n"
     ]
    }
   ],
   "source": [
    "#6. Given a dictionary containing the names and ages of a group of people, return the name of the oldest person.\n",
    "a=0\n",
    "dic={}\n",
    "while True:\n",
    "    name=input(\"Name : \")\n",
    "    age=int(input(\"Age : \"))\n",
    "    dic.update({name:age})\n",
    "    ask=input(\" type y to continue or n to stop : \")\n",
    "    if ask==\"Y\" or ask==\"y\":\n",
    "        break\n",
    "old=max(dic.values())\n",
    "names=list(dic.keys())\n",
    "ages=list(dic.values())\n",
    "print(dic)\n",
    "print(\"\\nThe oldest person is --> {}\".format(names[ages.index(old)]))\n",
    "\n",
    "\n"
   ]
  },
  {
   "cell_type": "code",
   "execution_count": 4,
   "id": "336ccb34",
   "metadata": {},
   "outputs": [
    {
     "name": "stdout",
     "output_type": "stream",
     "text": [
      "person1 choose any one from rock,paper,scissor-rock\n",
      "person2 choose any one from rock,paper,scissor-scissor\n",
      "person1 is winner\n"
     ]
    }
   ],
   "source": [
    "#7. Write a Python program to create a Rock, Paper, Scissor game, use two inputs for two players:\n",
    "person1=input(\"person1 choose any one from rock,paper,scissor-\") \n",
    "person2=input(\"person2 choose any one from rock,paper,scissor-\")\n",
    "if person1==\"rock\" and person2==\"scissor\":\n",
    "    print(\"person1 is winner\")\n",
    "elif person1==\"scissor\" and person2==\"paper\":\n",
    "    print (\"person1 is winner\")\n",
    "elif person1==\"rock\" and person2==\"paper\":\n",
    "    print(\"person2 is winner\")\n",
    "elif person1==\"scissor\" and person2==\"rock\":\n",
    "    print(\"person2 is winner\")\n",
    "elif person1==\"paper\" and person2==\"scissor\":\n",
    "    print(\"person2 is winner\")\n",
    "elif person1==\"paper\" and person2==\"rock\":\n",
    "    print(\"person1 is winner\")\n",
    "else:\n",
    "    print(\"wrong input\")\n"
   ]
  },
  {
   "cell_type": "code",
   "execution_count": 2,
   "id": "8bd90921",
   "metadata": {},
   "outputs": [
    {
     "name": "stdout",
     "output_type": "stream",
     "text": [
      "Please enter your wallet balance : 25\n",
      "['water bottels', 'chips']\n"
     ]
    }
   ],
   "source": [
    "#8. Create a program that returns a list of items that you can afford in the store with the money you have in your wallet. Create a dictionary with items as key and price as values.\n",
    "store={\"wallet\":1000,\"ice creams\":100,\"dark choclates\":120,\"dry nuts\":200,\"bag\":2000,\"tv\":40000,\"laptop\":70000,\"water bottels\":20,\"chips\":10,\"cake\":400}\n",
    "items=list(store.keys())\n",
    "prices=list(store.values())\n",
    "pack=list(zip(items,prices))\n",
    "wallet=int(input(\"Please enter your wallet balance : \"))\n",
    "card=[]\n",
    "new=[]\n",
    "for tags in prices:   \n",
    "    if tags<=wallet:\n",
    "        card.append(tags)\n",
    "for i,j in pack:\n",
    "    if j in card:\n",
    "        new.append(i)\n",
    "print(new)\n",
    "\n",
    "\n"
   ]
  },
  {
   "cell_type": "code",
   "execution_count": 4,
   "id": "f66a926c",
   "metadata": {},
   "outputs": [
    {
     "name": "stdout",
     "output_type": "stream",
     "text": [
      "a1:dog\n",
      "a2:cat\n"
     ]
    },
    {
     "data": {
      "text/plain": [
       "{'cat', 'dog'}"
      ]
     },
     "execution_count": 4,
     "metadata": {},
     "output_type": "execute_result"
    }
   ],
   "source": [
    "#9. Write a Python program to create a union of sets.\n",
    "x1=input(\"a1:\")\n",
    "x2=input(\"a2:\")\n",
    "a1=set(x1.split(\",\"))\n",
    "a2=set(x2.split(\",\")) \n",
    "a1.union(a2)\n"
   ]
  },
  {
   "cell_type": "code",
   "execution_count": null,
   "id": "b5e407b6",
   "metadata": {},
   "outputs": [],
   "source": [
    "#10. Write a Python program to check if a given value is present in a set or not (Dynamic).\n",
    "\n"
   ]
  },
  {
   "cell_type": "code",
   "execution_count": 7,
   "id": "62052b14",
   "metadata": {},
   "outputs": [
    {
     "name": "stdout",
     "output_type": "stream",
     "text": [
      "java java java\n",
      "{'java': 3}\n"
     ]
    }
   ],
   "source": [
    "#11. Write a Python program to find the occurrences of 3 most common words in a given text. And make it as a dictionaries.\n",
    "\n",
    "name=input()\n",
    "check=name.split()\n",
    "dic={}\n",
    "for names in check:\n",
    "    if name.count(names)>=3:\n",
    "        dic.update({names:name.count(names)})\n",
    "print(dic)\n"
   ]
  },
  {
   "cell_type": "code",
   "execution_count": 9,
   "id": "755b9cc8",
   "metadata": {},
   "outputs": [
    {
     "name": "stdout",
     "output_type": "stream",
     "text": [
      "Please enter all the names and marks.use [-] to seperate the names\n",
      "Subject Names : telugu hindi biology\n",
      "Marks : 60 90 80\n",
      "{'telugu hindi biology': '60 90 80'}\n"
     ]
    }
   ],
   "source": [
    "#12. Write a Python program that accepts name of given subject and mark, and make subjects as keys in dictionaries and marks as values and print the finaldictionary with subjects and marks\n",
    "print(\"Please enter all the names and marks.[-] to seperate the names\")\n",
    "report={}\n",
    "while True:\n",
    "    nms=input(\"Subject Names : \")\n",
    "    mks=input(\"Marks : \")\n",
    "    names=nms.split(\",\")\n",
    "    marks=mks.split(\",\")\n",
    "    full=zip(names,marks)\n",
    "    \n",
    "    if len(names)==len(marks):\n",
    "        for i,j in full:\n",
    "            report.update({i:j})\n",
    "        break\n",
    "print(report)\n"
   ]
  }
 ],
 "metadata": {
  "kernelspec": {
   "display_name": "Python 3 (ipykernel)",
   "language": "python",
   "name": "python3"
  },
  "language_info": {
   "codemirror_mode": {
    "name": "ipython",
    "version": 3
   },
   "file_extension": ".py",
   "mimetype": "text/x-python",
   "name": "python",
   "nbconvert_exporter": "python",
   "pygments_lexer": "ipython3",
   "version": "3.9.13"
  }
 },
 "nbformat": 4,
 "nbformat_minor": 5
}
