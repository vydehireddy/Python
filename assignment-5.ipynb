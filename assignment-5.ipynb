{
 "cells": [
  {
   "cell_type": "code",
   "execution_count": 8,
   "id": "d611ac6b",
   "metadata": {},
   "outputs": [],
   "source": [
    "#1. Define a function which will return Max of three numbers. \n",
    "def f1(a,b,c):\n",
    "    max=3\n",
    "    for x in (a,b,c):\n",
    "        if x>max:\n",
    "            max=x\n",
    "        return max\n"
   ]
  },
  {
   "cell_type": "code",
   "execution_count": 9,
   "id": "cb27db06",
   "metadata": {},
   "outputs": [
    {
     "data": {
      "text/plain": [
       "20"
      ]
     },
     "execution_count": 9,
     "metadata": {},
     "output_type": "execute_result"
    }
   ],
   "source": [
    "f1(20,40,60)"
   ]
  },
  {
   "cell_type": "code",
   "execution_count": 12,
   "id": "092c26aa",
   "metadata": {},
   "outputs": [],
   "source": [
    "#2. Define a Python Function to reverse a string.\n",
    "def rev(string1):\n",
    "    x=list(string1)\n",
    "    x=x[::-1]\n",
    "    x1=\"\".join(x)\n",
    "    print(x1)\n"
   ]
  },
  {
   "cell_type": "code",
   "execution_count": 21,
   "id": "d72adaa7",
   "metadata": {},
   "outputs": [
    {
     "name": "stdout",
     "output_type": "stream",
     "text": [
      "ecneics atad\n"
     ]
    }
   ],
   "source": [
    "rev(\"data science\")"
   ]
  },
  {
   "cell_type": "code",
   "execution_count": 26,
   "id": "d97429b3",
   "metadata": {},
   "outputs": [],
   "source": [
    "#3. Write a Python program to define a function that accepts 2 values and return its sum, subtraction and multiplication. \n",
    "def val(a,b):\n",
    "    return print(\"sum = {},subtraction = {},multiplication = {}\".format((a+b),(a-b),(a*b)))\n",
    "\n"
   ]
  },
  {
   "cell_type": "code",
   "execution_count": 28,
   "id": "e8d4a6a5",
   "metadata": {},
   "outputs": [
    {
     "name": "stdout",
     "output_type": "stream",
     "text": [
      "sum = 40,subtraction = -20,multiplication = 300\n"
     ]
    }
   ],
   "source": [
    "val(10,30)"
   ]
  },
  {
   "cell_type": "code",
   "execution_count": 41,
   "id": "b1ffe87a",
   "metadata": {},
   "outputs": [],
   "source": [
    "#4. Define a function that accepts roll number and returns whether the student is present or absent. \n",
    "def rolno(y):\n",
    "    y1=[\"1,2,3,4,5,6\"]\n",
    "    if y==y1:\n",
    "        print(\"student absent\")\n",
    "    else:\n",
    "        print(\"student present\")\n"
   ]
  },
  {
   "cell_type": "code",
   "execution_count": 42,
   "id": "4679d749",
   "metadata": {},
   "outputs": [
    {
     "name": "stdout",
     "output_type": "stream",
     "text": [
      "student present\n"
     ]
    }
   ],
   "source": [
    "rolno(3)"
   ]
  },
  {
   "cell_type": "code",
   "execution_count": 45,
   "id": "56c502da",
   "metadata": {},
   "outputs": [],
   "source": [
    "#5. Define a function in python that accepts n values and returns the maximum of n numbers.\n",
    "def max(*number):\n",
    "    return \"Max number : {}\".format(max(number))\n"
   ]
  },
  {
   "cell_type": "code",
   "execution_count": 1,
   "id": "4b00b861",
   "metadata": {},
   "outputs": [
    {
     "data": {
      "text/plain": [
       "110"
      ]
     },
     "execution_count": 1,
     "metadata": {},
     "output_type": "execute_result"
    }
   ],
   "source": [
    "max(10,20,30,40,50,60,70,80,90,110)"
   ]
  },
  {
   "cell_type": "code",
   "execution_count": 15,
   "id": "17efac06",
   "metadata": {},
   "outputs": [],
   "source": [
    "#6. Define a function which counts vowels and consonant in a word. \n",
    "def vowelcount(s):\n",
    "    vowels=[\"A\",\"E\",\"I\",\"O\",\"U\",\"a\",\"e\",\"i\",\"o\",\"u\"]\n",
    "    v=0\n",
    "    c=0\n",
    "    for letters in s:\n",
    "        if letters in vowels:\n",
    "            v+=1\n",
    "        else:\n",
    "            c+=1\n",
    "    print(\"Total vowels in given string = {}\".format(v))\n",
    "    print(\"Total consonants in given string = {}\".format(c))"
   ]
  },
  {
   "cell_type": "code",
   "execution_count": 16,
   "id": "4fa45be3",
   "metadata": {},
   "outputs": [
    {
     "name": "stdout",
     "output_type": "stream",
     "text": [
      "Total vowels in given string = 5\n",
      "Total consonants in given string = 7\n"
     ]
    }
   ],
   "source": [
    "vowelcount(\"data science\")"
   ]
  },
  {
   "cell_type": "code",
   "execution_count": 8,
   "id": "993a525c",
   "metadata": {},
   "outputs": [],
   "source": [
    "#7. Define a function that returns Factorial of a number.\n",
    "def factorial(number):\n",
    "    if number==0:\n",
    "        return 1\n",
    "    else:\n",
    "        return number*factorial(number-1)"
   ]
  },
  {
   "cell_type": "code",
   "execution_count": 9,
   "id": "8a008e00",
   "metadata": {},
   "outputs": [
    {
     "data": {
      "text/plain": [
       "3628800"
      ]
     },
     "execution_count": 9,
     "metadata": {},
     "output_type": "execute_result"
    }
   ],
   "source": [
    "factorial(10)"
   ]
  },
  {
   "cell_type": "code",
   "execution_count": 5,
   "id": "1ae00392",
   "metadata": {},
   "outputs": [],
   "source": [
    "#8. Define a function that accepts radius and returns the area of a circle.\n",
    "def area(r):\n",
    "    return print(\"Area of a circle of radius {} is {}\".format(r,(22/7)*r**2))\n"
   ]
  },
  {
   "cell_type": "code",
   "execution_count": 6,
   "id": "bad4cfb1",
   "metadata": {},
   "outputs": [
    {
     "name": "stdout",
     "output_type": "stream",
     "text": [
      "Area of a circle of radius 5 is 78.57142857142857\n"
     ]
    }
   ],
   "source": [
    "area(5)"
   ]
  },
  {
   "cell_type": "code",
   "execution_count": 19,
   "id": "b79b921a",
   "metadata": {},
   "outputs": [],
   "source": [
    "#9. Define a function that takes a number as a parameter and check the number is prime or not.\n",
    "def prime(x):\n",
    "    if x>1:\n",
    "        for y in range(2,x):\n",
    "            if x%y==0:\n",
    "                return \"Is Prime\"\n",
    "            else:\n",
    "                return \"Is not Prime\""
   ]
  },
  {
   "cell_type": "code",
   "execution_count": 20,
   "id": "d51c844d",
   "metadata": {},
   "outputs": [
    {
     "data": {
      "text/plain": [
       "'Is Prime'"
      ]
     },
     "execution_count": 20,
     "metadata": {},
     "output_type": "execute_result"
    }
   ],
   "source": [
    "prime(6)"
   ]
  },
  {
   "cell_type": "code",
   "execution_count": 52,
   "id": "1bfdc9dd",
   "metadata": {},
   "outputs": [],
   "source": [
    "#10. Mary wants to run a 25-mile marathon. When she attempts to sign up for the marathon, she notices the sign-up sheet doesn't directly state the marathon's length. Instead, the marathon's length is listed in small, different portions. Help Mary find out how long the marathon actually is. So create a function that \n",
    "# ** Return True if the marathon is 25 miles long, otherwise, return False.\n",
    "def marathon(l2):\n",
    "    count=0\n",
    "    for x in l2:\n",
    "        count+=x\n",
    "    if count==25:\n",
    "        print(\"True\")\n",
    "    else:\n",
    "        return False \n",
    "\n",
    "\n"
   ]
  },
  {
   "cell_type": "code",
   "execution_count": 54,
   "id": "431186a4",
   "metadata": {},
   "outputs": [
    {
     "data": {
      "text/plain": [
       "False"
      ]
     },
     "execution_count": 54,
     "metadata": {},
     "output_type": "execute_result"
    }
   ],
   "source": [
    "marathon([2,10])"
   ]
  },
  {
   "cell_type": "code",
   "execution_count": 45,
   "id": "99d1038d",
   "metadata": {},
   "outputs": [],
   "source": [
    "#11. Create a function that takes a number and returns True if the number is automorphic, False if it isn't.\n",
    "# ** number n is automorphic if n^2 ends in n.\n",
    "def automorphic(n):\n",
    "    n1=n**2\n",
    "    n1=str(n1)\n",
    "    if n1[-1]==str(n):\n",
    "        print(\"automorphic\")\n",
    "    else:\n",
    "        print(\"not automorphic\")\n",
    "\n"
   ]
  },
  {
   "cell_type": "code",
   "execution_count": 46,
   "id": "24006c9e",
   "metadata": {},
   "outputs": [
    {
     "name": "stdout",
     "output_type": "stream",
     "text": [
      "not automorphic\n"
     ]
    }
   ],
   "source": [
    "automorphic(7)"
   ]
  },
  {
   "cell_type": "code",
   "execution_count": 43,
   "id": "c28494ab",
   "metadata": {},
   "outputs": [],
   "source": [
    "#12. Create a function, that will take given a, b, c, and do the following:  Add a to itself b times and Check if the result is divisible by c. and return true if it is divisible by c or false\n",
    "def val(a,b,c):\n",
    "    new=[]\n",
    "    for number in range(b):\n",
    "        new.append(a)\n",
    "    if sum(new)%c==0:\n",
    "        return False\n",
    "    else:\n",
    "        return True\n",
    "\n",
    "\n"
   ]
  },
  {
   "cell_type": "code",
   "execution_count": 44,
   "id": "14051ca7",
   "metadata": {},
   "outputs": [
    {
     "data": {
      "text/plain": [
       "False"
      ]
     },
     "execution_count": 44,
     "metadata": {},
     "output_type": "execute_result"
    }
   ],
   "source": [
    "val(4,6,8)"
   ]
  },
  {
   "cell_type": "code",
   "execution_count": 39,
   "id": "b4fa4bb5",
   "metadata": {},
   "outputs": [],
   "source": [
    "#13. Create a function that changes specific words into emoticons. Given a sentence as a string, replace the words smile, grin, sad and mad with their corresponding emoticons.\n",
    "# word emoticon\n",
    "# smile :D\n",
    "# grin :) \n",
    "# sad :( \n",
    "# mad :P\n",
    "\n",
    "def function(string1):\n",
    "    for a in string1:\n",
    "        string1=string1.replace(\"smile\",\":D\")\n",
    "        string1=string1.replace(\"grin\",\":)\")\n",
    "        string1=string1.replace(\"sad\",\":(\")\n",
    "        string1=string1.replace(\"mad\",\":P\")\n",
    "    print(string1)\n"
   ]
  },
  {
   "cell_type": "code",
   "execution_count": 40,
   "id": "9fd948ab",
   "metadata": {},
   "outputs": [
    {
     "name": "stdout",
     "output_type": "stream",
     "text": [
      "beautiful simle :) hlo dont be :( iam :P at u\n"
     ]
    }
   ],
   "source": [
    "function(\"beautiful simle grin hlo dont be sad iam mad at u\")"
   ]
  },
  {
   "cell_type": "code",
   "execution_count": 36,
   "id": "4d6d65c8",
   "metadata": {},
   "outputs": [],
   "source": [
    "#14. Write a Python program to square and cube every number in a given list of integers using Lambda.\n",
    "def f1(l2):\n",
    "    x=list(map(lambda x:x**4,l2))\n",
    "    y=list(map(lambda y:y**5,l2))\n",
    "    print(\"Squares : {}\".format(x))\n",
    "    print(\"Cubes : {}\".format(y))\n"
   ]
  },
  {
   "cell_type": "code",
   "execution_count": 37,
   "id": "744c5a0a",
   "metadata": {},
   "outputs": [
    {
     "name": "stdout",
     "output_type": "stream",
     "text": [
      "Squares : [1, 16, 81, 256, 625]\n",
      "Cubes : [1, 32, 243, 1024, 3125]\n"
     ]
    }
   ],
   "source": [
    "f1([1,2,3,4,5])"
   ]
  },
  {
   "cell_type": "code",
   "execution_count": 26,
   "id": "c340847c",
   "metadata": {},
   "outputs": [],
   "source": [
    "#15. Write a Python program to check whether a given string is number or not using Lambda.\n",
    "y=lambda s:s.isdigit()"
   ]
  },
  {
   "cell_type": "code",
   "execution_count": 29,
   "id": "02491f0f",
   "metadata": {},
   "outputs": [
    {
     "data": {
      "text/plain": [
       "True"
      ]
     },
     "execution_count": 29,
     "metadata": {},
     "output_type": "execute_result"
    }
   ],
   "source": [
    "y('1234')"
   ]
  }
 ],
 "metadata": {
  "kernelspec": {
   "display_name": "Python 3 (ipykernel)",
   "language": "python",
   "name": "python3"
  },
  "language_info": {
   "codemirror_mode": {
    "name": "ipython",
    "version": 3
   },
   "file_extension": ".py",
   "mimetype": "text/x-python",
   "name": "python",
   "nbconvert_exporter": "python",
   "pygments_lexer": "ipython3",
   "version": "3.9.13"
  }
 },
 "nbformat": 4,
 "nbformat_minor": 5
}
