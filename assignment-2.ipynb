{
 "cells": [
  {
   "cell_type": "code",
   "execution_count": 5,
   "id": "2ad37c04",
   "metadata": {},
   "outputs": [
    {
     "name": "stdout",
     "output_type": "stream",
     "text": [
      "enter a value:2\n",
      "enter b value:4\n",
      "multiplication of a and b: 8\n",
      "division of a and b: 0.5\n"
     ]
    }
   ],
   "source": [
    "1# write a program to accept two numbers from user and calculate multiplication and division\n",
    "a=int(input(\"enter a value:\"))\n",
    "b=int(input(\"enter b value:\"))\n",
    "print(\"multiplication of a and b:\",a*b)\n",
    "print(\"division of a and b:\",a/b)"
   ]
  },
  {
   "cell_type": "code",
   "execution_count": 10,
   "id": "295f5720",
   "metadata": {},
   "outputs": [
    {
     "name": "stdout",
     "output_type": "stream",
     "text": [
      "a\n",
      "c\n",
      "e\n",
      "g\n",
      "i\n"
     ]
    }
   ],
   "source": [
    "2# write a python program to print that a character from a string that are present at a even index\n",
    "var1=\"abcdefghi\"\n",
    "for i in range(len(var1)):\n",
    "    if i%2==0:\n",
    "        print(var1[i])"
   ]
  },
  {
   "cell_type": "code",
   "execution_count": 11,
   "id": "7e5c1d18",
   "metadata": {},
   "outputs": [
    {
     "name": "stdout",
     "output_type": "stream",
     "text": [
      "b\n",
      "d\n",
      "f\n",
      "h\n"
     ]
    }
   ],
   "source": [
    "3# write a python program to print that a character from a string that are present at a odd index\n",
    "var1=\"abcdefghi\"\n",
    "for i in range(len(var1)):\n",
    "    if i%2!=0:\n",
    "        print(var1[i])"
   ]
  },
  {
   "cell_type": "code",
   "execution_count": 13,
   "id": "f759da6b",
   "metadata": {},
   "outputs": [
    {
     "name": "stdout",
     "output_type": "stream",
     "text": [
      "p\n",
      "t\n",
      "o\n"
     ]
    }
   ],
   "source": [
    "4# write a python program which we will print sum of two numbers if the two numbers are even or it will print the difference of two numbers\n",
    "x1=\"python\"\n",
    "for i in range (len(x1)):\n",
    "    if i%2==0:\n",
    "        print(x1[i])\n"
   ]
  },
  {
   "cell_type": "code",
   "execution_count": 14,
   "id": "333cac4b",
   "metadata": {},
   "outputs": [
    {
     "name": "stdout",
     "output_type": "stream",
     "text": [
      "y\n",
      "h\n",
      "n\n"
     ]
    }
   ],
   "source": [
    "x1=\"python\"\n",
    "for i in range (len(x1)):\n",
    "    if i%2!=0:\n",
    "        print(x1[i])\n"
   ]
  },
  {
   "cell_type": "code",
   "execution_count": 17,
   "id": "0176fd30",
   "metadata": {},
   "outputs": [
    {
     "name": "stdout",
     "output_type": "stream",
     "text": [
      "enter a value:5\n",
      "enter b value:6\n",
      "sum of a and b: -1\n"
     ]
    }
   ],
   "source": [
    "a=int(input(\"enter a value:\"))\n",
    "b=int(input(\"enter b value:\"))\n",
    "if a%2==0 and b%2==0:\n",
    "    print(\"sum of a and b:\",a+b)\n",
    "else:\n",
    "    print(\"sum of a and b:\",a-b)\n"
   ]
  },
  {
   "cell_type": "code",
   "execution_count": 30,
   "id": "dd4a3428",
   "metadata": {},
   "outputs": [
    {
     "name": "stdout",
     "output_type": "stream",
     "text": [
      "give input:data analyist\n",
      "D\n",
      "a\n",
      "T\n",
      "a\n",
      " \n",
      "a\n",
      "N\n",
      "a\n",
      "L\n",
      "y\n",
      "I\n",
      "s\n",
      "T\n"
     ]
    }
   ],
   "source": [
    "5#write a python to convert all indexed alphabet to upper and odd indexed char\n",
    "str1=input(\"give input:\")\n",
    "for i in range(len(str1)):\n",
    "    if i%2==0:\n",
    "        print(str1[i].upper())\n",
    "    elif i%2!=0:\n",
    "        print(str1[i])"
   ]
  },
  {
   "cell_type": "code",
   "execution_count": 31,
   "id": "231ceb0b",
   "metadata": {},
   "outputs": [
    {
     "name": "stdout",
     "output_type": "stream",
     "text": [
      "give a number:20\n",
      "True\n"
     ]
    }
   ],
   "source": [
    "6#write a python program which we will print true if the input number is divisible by 5 or else false\n",
    "number=int(input(\"give a number:\"))\n",
    "if number%5==0:\n",
    "    print(\"True\")\n",
    "else:\n",
    "    print(\"false\")"
   ]
  },
  {
   "cell_type": "code",
   "execution_count": 32,
   "id": "6f94f11e",
   "metadata": {},
   "outputs": [
    {
     "name": "stdout",
     "output_type": "stream",
     "text": [
      "enter a value:100\n",
      "enter b value:100\n",
      "product of a and b: 10000\n"
     ]
    }
   ],
   "source": [
    "7#give two integer number return their poduct only if the product is greater than 1000,else return their sum\n",
    "a=int(input(\"enter a value:\"))\n",
    "b=int(input(\"enter b value:\"))\n",
    "if a*b>1000:\n",
    "    print(\"product of a and b:\",a*b)\n",
    "else:\n",
    "    print(\"sum of a and b:\",a+b)"
   ]
  },
  {
   "cell_type": "code",
   "execution_count": 13,
   "id": "077ac913",
   "metadata": {},
   "outputs": [
    {
     "name": "stdout",
     "output_type": "stream",
     "text": [
      "pjtvos\n"
     ]
    }
   ],
   "source": [
    "8#give two strings x,y writes a program to return a new string made of x and y's first,middle,and last characters\n",
    "x=\"pytho\"\n",
    "y=\"javas\"\n",
    "xy=x[0]+y[0]+x[len(x)//2]+y[len(y)//2]+x[-1]+y[-1]\n",
    "print(xy)\n"
   ]
  },
  {
   "cell_type": "code",
   "execution_count": 5,
   "id": "6c8628cd",
   "metadata": {},
   "outputs": [
    {
     "name": "stdout",
     "output_type": "stream",
     "text": [
      "enter the names:datascience python java\n",
      "name1: datascience\n",
      "name2: python\n",
      "name3: java\n"
     ]
    }
   ],
   "source": [
    "9# write a python program to take three inputs from user in the single input() function call\n",
    "a=input(\"enter the names:\")\n",
    "b=a.split()\n",
    "for i in b:\n",
    "    print(\"name1:\",b[0])\n",
    "    print(\"name2:\",b[1])\n",
    "    print(\"name3:\",b[2])\n",
    "    break"
   ]
  },
  {
   "cell_type": "code",
   "execution_count": 4,
   "id": "f064beab",
   "metadata": {},
   "outputs": [
    {
     "name": "stdout",
     "output_type": "stream",
     "text": [
      "Type string:malayalam\n",
      "malayala@\n"
     ]
    }
   ],
   "source": [
    "10# Write a Python program to get a string from a given string where all occurrence of its first char have been changed to '@',expect the first char itself\n",
    "str1=input(\"Type string:\")\n",
    "x=str1[0]\n",
    "print(str1[0]+str1[1:].replace(x,\"@\"))"
   ]
  },
  {
   "cell_type": "code",
   "execution_count": 15,
   "id": "72453be9",
   "metadata": {},
   "outputs": [
    {
     "name": "stdout",
     "output_type": "stream",
     "text": [
      "Type a string:sleeping\n",
      "sleeply\n"
     ]
    }
   ],
   "source": [
    "11# write a python program to add 'ing'at the end of a given string if the given string already ends with 'ing' then add 'ly'instead if string length of given string is less than 3,leave it unchanged\n",
    "x=input(\"Type a string:\")\n",
    "y=\"\"\n",
    "if len(x)>=3 and x[-3:]==\"ing\":\n",
    "    y=x[:-3]+\"ly\"\n",
    "    print(y)\n",
    "elif len(x)<3:\n",
    "    print(x)\n",
    "else:\n",
    "    y=x+\"ing\"\n",
    "    print(y)"
   ]
  },
  {
   "cell_type": "code",
   "execution_count": 2,
   "id": "72516f1f",
   "metadata": {},
   "outputs": [
    {
     "name": "stdout",
     "output_type": "stream",
     "text": [
      "enter a number1:6\n",
      "enter a number2:5\n",
      "False\n"
     ]
    }
   ],
   "source": [
    "12# write a program that accepts two inputs num1 and num2 print true if one of them is 10 or if their sum is 10 otherwise print false\n",
    "num1=int(input(\"enter a number1:\"))\n",
    "num2=int(input(\"enter a number2:\"))\n",
    "if num1==10 or num2==10 or num1+num2==10:\n",
    "   print(True)\n",
    "else:\n",
    "    print(False)"
   ]
  },
  {
   "cell_type": "code",
   "execution_count": 17,
   "id": "c4a278c1",
   "metadata": {},
   "outputs": [
    {
     "name": "stdout",
     "output_type": "stream",
     "text": [
      "2\n",
      "2\n",
      "1\n",
      "True\n"
     ]
    }
   ],
   "source": [
    "13# write a python program that accepts three inputs x,yandz print true if x*y>z otherwise false\n",
    "x=int(input())\n",
    "y=int(input())\n",
    "z=int(input())\n",
    "if x*y>z:\n",
    "    print(True)\n",
    "else:\n",
    "    print(False)"
   ]
  },
  {
   "cell_type": "code",
   "execution_count": 22,
   "id": "8a32ec24",
   "metadata": {},
   "outputs": [
    {
     "name": "stdout",
     "output_type": "stream",
     "text": [
      "vydehi\n",
      "reddy\n",
      "False\n"
     ]
    }
   ],
   "source": [
    "14# write a program that accepts two strings inputs return true depending on whether the total number of characters in the first string is equal to total no of characters in second string\n",
    "str1=input()\n",
    "str2=input()\n",
    "if len(str1)==len(str2):\n",
    "    print(\"True\")\n",
    "else:\n",
    "    print(\"False\")\n"
   ]
  },
  {
   "cell_type": "code",
   "execution_count": 5,
   "id": "d91c0d05",
   "metadata": {},
   "outputs": [
    {
     "name": "stdout",
     "output_type": "stream",
     "text": [
      "give string:go\n",
      "gogogo\n"
     ]
    }
   ],
   "source": [
    "15# write a program that takes astring input we'll say that front is the frst three characters of string if the string length is less than three characters the front is whatever is there return a new string which is three copies of front\n",
    "x=input(\"give string:\")\n",
    "y=\"\"\n",
    "if len(x)<3:\n",
    "    y=x+x+x\n",
    "elif len(x)>=3:\n",
    "    y=x[:3]\n",
    "print(y)"
   ]
  },
  {
   "cell_type": "code",
   "execution_count": 7,
   "id": "84864c45",
   "metadata": {},
   "outputs": [
    {
     "name": "stdout",
     "output_type": "stream",
     "text": [
      "give a string:words\n",
      "the word is plural\n"
     ]
    }
   ],
   "source": [
    "16# write a program that takes in a word and determines whether or not it is plural a plural word is one that ends in 's'\n",
    "x=input(\"give a string:\")\n",
    "if x[-1]==\"s\":\n",
    "    print(\"the word is plural\")\n",
    "else:\n",
    "    print(\"the word is not plural\")\n"
   ]
  },
  {
   "cell_type": "code",
   "execution_count": 20,
   "id": "f7af8fb9",
   "metadata": {},
   "outputs": [
    {
     "name": "stdout",
     "output_type": "stream",
     "text": [
      "enter your age:22\n",
      "enter break is true or false:false\n",
      "bartender will serve the drink\n"
     ]
    }
   ],
   "source": [
    "17# A bartender is writing a simple program to determine whether he should serve drinks to someone. He only serves drinks to people 18 and older and when he's not on break the person's age, and whether break time is in session, createa python program which prints whether he should serve\n",
    "person_age=int(input(\"enter your age:\"))\n",
    "break_time=input(\"enter break is true or false:\")\n",
    "if person_age>=18 and break_time==(\"false\"):\n",
    "    print(\"bartender will serve the drink\")\n",
    "else:\n",
    "        print(\"bartender will never serve the drink\")\n",
    " \n"
   ]
  },
  {
   "cell_type": "code",
   "execution_count": 16,
   "id": "85047104",
   "metadata": {},
   "outputs": [
    {
     "name": "stdout",
     "output_type": "stream",
     "text": [
      "tell me your name:shiva\n",
      "Father\n"
     ]
    }
   ],
   "source": [
    "18#manoj kumar has family aaand friends help him remind them who.given string with a name return relation of that person to manoj kumar\n",
    "name=input(\"tell me your name:\")\n",
    "if name==\"shiva\":\n",
    "    print(\"Father\")\n",
    "elif name==\"leetha\":\n",
    "    print(\"mother\")\n",
    "elif name==\"tarun\":\n",
    "    print(\"brother\")\n",
    "else:\n",
    "    print(\"did not recognize\")"
   ]
  },
  {
   "cell_type": "code",
   "execution_count": 15,
   "id": "b482a11a",
   "metadata": {},
   "outputs": [
    {
     "name": "stdout",
     "output_type": "stream",
     "text": [
      "abcdefghijklmnopqrstuvwxyz\n",
      "aeioubcdfghjklmnpqrstvwxyz\n"
     ]
    }
   ],
   "source": [
    "19# write a program that takes string breaks it up and return it will vowels first consonants second.for any character thats not vowel\n",
    "x=input()\n",
    "y=\"\"\n",
    "z=\"\"\n",
    "for i in x:\n",
    "    if i in[\"a\",\"e\",\"i\",\"o\",\"u\"]:\n",
    "        y+=i\n",
    "    else:\n",
    "        z+=i\n",
    "print(y+z)"
   ]
  },
  {
   "cell_type": "code",
   "execution_count": 24,
   "id": "bed3ee48",
   "metadata": {},
   "outputs": [
    {
     "name": "stdout",
     "output_type": "stream",
     "text": [
      "number 1:50\n",
      "operator:/\n",
      "number 2:2\n",
      "25.0\n"
     ]
    }
   ],
   "source": [
    "20# create a dynamic calucalator which ask for numbers and operators and return the answer\n",
    "num1=int(input(\"number 1:\"))\n",
    "x=input(\"operator:\")\n",
    "num2=int(input(\"number 2:\"))\n",
    "if x==\"+\":\n",
    "    print(num1+num2)\n",
    "elif x==\"-\":\n",
    "    print(num1-num2)\n",
    "elif x==\"*\":\n",
    "    print(num1*num2)\n",
    "elif x==\"/\":\n",
    "    print(num1/num2)\n",
    "elif x==\"**\":\n",
    "    print(num1**num2)\n",
    "else:\n",
    "    print(\"you have given wrong\")\n",
    "    "
   ]
  },
  {
   "cell_type": "code",
   "execution_count": null,
   "id": "1ecb1b33",
   "metadata": {},
   "outputs": [],
   "source": []
  }
 ],
 "metadata": {
  "kernelspec": {
   "display_name": "Python 3 (ipykernel)",
   "language": "python",
   "name": "python3"
  },
  "language_info": {
   "codemirror_mode": {
    "name": "ipython",
    "version": 3
   },
   "file_extension": ".py",
   "mimetype": "text/x-python",
   "name": "python",
   "nbconvert_exporter": "python",
   "pygments_lexer": "ipython3",
   "version": "3.9.13"
  }
 },
 "nbformat": 4,
 "nbformat_minor": 5
}
