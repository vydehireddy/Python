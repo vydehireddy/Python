{
 "cells": [
  {
   "cell_type": "code",
   "execution_count": null,
   "id": "8dc505dd",
   "metadata": {},
   "outputs": [],
   "source": [
    "# task-1"
   ]
  },
  {
   "cell_type": "code",
   "execution_count": 1,
   "id": "fa16bad6",
   "metadata": {},
   "outputs": [
    {
     "name": "stdout",
     "output_type": "stream",
     "text": [
      "enter a string:BHUMI\n"
     ]
    },
    {
     "data": {
      "text/plain": [
       "'bhumi'"
      ]
     },
     "execution_count": 1,
     "metadata": {},
     "output_type": "execute_result"
    }
   ],
   "source": [
    "#python program to convert a string to lower case:\n",
    "x1=input(\"enter a string:\")\n",
    "x1.lower()"
   ]
  },
  {
   "cell_type": "code",
   "execution_count": 15,
   "id": "7eac31be",
   "metadata": {},
   "outputs": [
    {
     "name": "stdout",
     "output_type": "stream",
     "text": [
      "give input value:PYTHON\n",
      "PyThOn\n"
     ]
    }
   ],
   "source": [
    "#write a python program to convert only odd indexing characters to lower case\n",
    "str1=input(\"give input value:\")\n",
    "str2=\"\"\n",
    "for i in range(len(str1)):\n",
    "    if i%2==0:\n",
    "        str2=str2+str1[i].upper()\n",
    "    else:\n",
    "        str2=str2+str1[i].lower()\n",
    "print(str2)"
   ]
  },
  {
   "cell_type": "code",
   "execution_count": 16,
   "id": "0003b453",
   "metadata": {},
   "outputs": [
    {
     "name": "stdout",
     "output_type": "stream",
     "text": [
      "give input value:PYTHON\n",
      "pYtHoN\n"
     ]
    }
   ],
   "source": [
    "#write a python program to convert only EVEN indexing characters to lower case\n",
    "str1=input(\"give input value:\")\n",
    "str2=\"\"\n",
    "for i in range(len(str1)):\n",
    "    if i%2!=0:\n",
    "        str2=str2+str1[i].upper()\n",
    "    else:\n",
    "        str2=str2+str1[i].lower()\n",
    "print(str2)"
   ]
  },
  {
   "cell_type": "code",
   "execution_count": 17,
   "id": "9cba23b3",
   "metadata": {},
   "outputs": [
    {
     "name": "stdout",
     "output_type": "stream",
     "text": [
      "give input value:PYTHON\n",
      "pYtHoN\n"
     ]
    }
   ],
   "source": [
    "#write a python program to convert only ODD indexing characters to upper case\n",
    "str1=input(\"give input value:\")\n",
    "str2=\"\"\n",
    "for i in range(len(str1)):\n",
    "    if i%2==0:\n",
    "        str2=str2+str1[i].lower()\n",
    "    else:\n",
    "        str2=str2+str1[i].upper()\n",
    "print(str2)"
   ]
  },
  {
   "cell_type": "code",
   "execution_count": 18,
   "id": "0cd31a79",
   "metadata": {},
   "outputs": [
    {
     "name": "stdout",
     "output_type": "stream",
     "text": [
      "give input value:PYTHON\n",
      "PyThOn\n"
     ]
    }
   ],
   "source": [
    "#write a python program to convert only EVEN indexing characters to upper case\n",
    "str1=input(\"give input value:\")\n",
    "str2=\"\"\n",
    "for i in range(len(str1)):\n",
    "    if i%2!=0:\n",
    "        str2=str2+str1[i].lower()\n",
    "    else:\n",
    "        str2=str2+str1[i].upper()\n",
    "print(str2)"
   ]
  },
  {
   "cell_type": "code",
   "execution_count": null,
   "id": "9e717aef",
   "metadata": {},
   "outputs": [],
   "source": [
    "# write a python program where you have different variables which contain your name,sex,age,phone no,fathername,mothers name.and by using bio data"
   ]
  },
  {
   "cell_type": "code",
   "execution_count": 4,
   "id": "52c436ce",
   "metadata": {},
   "outputs": [
    {
     "name": "stdout",
     "output_type": "stream",
     "text": [
      "enter name:vydehi\n",
      "enter sex:female\n",
      "enter age:22\n",
      "enter phone_number:8888888888\n",
      "enter fathers_name:sahadeva reddy\n",
      "enter mothers_name:sarada\n",
      "my name is vydehi,my sex is female,my age is 22,my phone_number is 8888888888,my fathers_name is sahadeva reddy,my mothers_name is sarada:\n"
     ]
    }
   ],
   "source": [
    "name=input(\"enter name:\")\n",
    "sex=input(\"enter sex:\")\n",
    "age=int(input(\"enter age:\"))\n",
    "phone_number=int(input(\"enter phone_number:\"))\n",
    "fathers_name=input(\"enter fathers_name:\")\n",
    "mothers_name=input(\"enter mothers_name:\")\n",
    "bio=\"my name is {},my sex is {},my age is {},my phone_number is {},my fathers_name is {},my mothers_name is {}:\"\n",
    "x1=bio.format(name,sex,age,phone_number,fathers_name,mothers_name)\n",
    "print(x1)"
   ]
  },
  {
   "cell_type": "code",
   "execution_count": null,
   "id": "675715e5",
   "metadata": {},
   "outputs": [],
   "source": [
    "#python program to count how many times \"@\" occures"
   ]
  },
  {
   "cell_type": "code",
   "execution_count": 6,
   "id": "d7d166d7",
   "metadata": {},
   "outputs": [
    {
     "name": "stdout",
     "output_type": "stream",
     "text": [
      "3\n"
     ]
    }
   ],
   "source": [
    "x=\"name1-vydehi@g,name2-priya@g,name3-vishnu@g\"\n",
    "l=x.count(\"@\")\n",
    "print(l)"
   ]
  },
  {
   "cell_type": "code",
   "execution_count": 3,
   "id": "bde2d6c9",
   "metadata": {},
   "outputs": [
    {
     "name": "stdout",
     "output_type": "stream",
     "text": [
      "name1,name2,name3\n"
     ]
    }
   ],
   "source": [
    "#write a python rogram to get only names from the string\n",
    "x=\"name1.@gmail.com,name2.@gmail.com,name3.@gmail.com\"\n",
    "y=x.split(\".@gmail.com\")\n",
    "z=\"\".join(y)\n",
    "print(z)\n"
   ]
  },
  {
   "cell_type": "code",
   "execution_count": 5,
   "id": "1b6c6150",
   "metadata": {},
   "outputs": [
    {
     "name": "stdout",
     "output_type": "stream",
     "text": [
      "vydehi\n"
     ]
    }
   ],
   "source": [
    "#python program to insert a 2 string in the middle of 1st string\n",
    "str1=\"vyhi\"\n",
    "str2=\"de\"\n",
    "str3=str1[0:2]+str2[0:2]+str1[2:5]\n",
    "print(str3)"
   ]
  },
  {
   "cell_type": "code",
   "execution_count": 8,
   "id": "279f5d17",
   "metadata": {},
   "outputs": [
    {
     "name": "stdout",
     "output_type": "stream",
     "text": [
      "bcdfghjklmnpqrstvwxyz\n"
     ]
    }
   ],
   "source": [
    "#program to remove vowels from enter alphabets\n",
    "s1=\"abcdefghijklmnopqrstuvwxyz\"\n",
    "s2=[\"a\",\"e\",\"i\",\"o\",\"u\"]\n",
    "s3=[]\n",
    "for i in s1:\n",
    "    if i not in s2:\n",
    "        s3.append(i)\n",
    "s3=\"\".join(s3)\n",
    "print(s3)\n",
    "        "
   ]
  },
  {
   "cell_type": "code",
   "execution_count": null,
   "id": "cc57e282",
   "metadata": {},
   "outputs": [],
   "source": []
  }
 ],
 "metadata": {
  "kernelspec": {
   "display_name": "Python 3 (ipykernel)",
   "language": "python",
   "name": "python3"
  },
  "language_info": {
   "codemirror_mode": {
    "name": "ipython",
    "version": 3
   },
   "file_extension": ".py",
   "mimetype": "text/x-python",
   "name": "python",
   "nbconvert_exporter": "python",
   "pygments_lexer": "ipython3",
   "version": "3.9.13"
  }
 },
 "nbformat": 4,
 "nbformat_minor": 5
}
