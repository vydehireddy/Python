{
 "cells": [
  {
   "cell_type": "code",
   "execution_count": 1,
   "id": "d411eaca",
   "metadata": {},
   "outputs": [
    {
     "name": "stdout",
     "output_type": "stream",
     "text": [
      "1\n",
      "2\n",
      "4\n",
      "5\n"
     ]
    }
   ],
   "source": [
    "# write a pytho program that prints all the numbers from 0 to6 except 3 and 6\n",
    "for i in range(0,6):\n",
    "    if i%3==0:\n",
    "        continue\n",
    "    print(i)"
   ]
  },
  {
   "cell_type": "code",
   "execution_count": 2,
   "id": "6922af6f",
   "metadata": {},
   "outputs": [
    {
     "name": "stdout",
     "output_type": "stream",
     "text": [
      "1\n",
      "2\n",
      "4\n",
      "5\n"
     ]
    }
   ],
   "source": [
    "a=0\n",
    "while a<6:\n",
    "    a=a+1\n",
    "    if a%3==0:\n",
    "        continue\n",
    "    print(a)"
   ]
  },
  {
   "cell_type": "code",
   "execution_count": 3,
   "id": "a3a0bbc7",
   "metadata": {},
   "outputs": [
    {
     "name": "stdout",
     "output_type": "stream",
     "text": [
      "Enter a number : 4\n",
      "10\n"
     ]
    }
   ],
   "source": [
    "# write a program to accept a number from a user and calculate the sum of all numbers from 1 to a given number\n",
    "n=int(input(\"Enter a number : \"))\n",
    "sum=0\n",
    "for i in range(1,n+1):\n",
    "    sum=sum+i\n",
    "print(sum)"
   ]
  },
  {
   "cell_type": "code",
   "execution_count": 4,
   "id": "2eed263f",
   "metadata": {},
   "outputs": [
    {
     "name": "stdout",
     "output_type": "stream",
     "text": [
      "Enter a number : 6\n",
      "21\n"
     ]
    }
   ],
   "source": [
    "n2= int(input(\"Enter a number : \"))\n",
    "sum=0\n",
    "while n2 >= 1:\n",
    "    \n",
    "    sum = sum + n2\n",
    "    n2=n2 - 1\n",
    "print(sum)"
   ]
  },
  {
   "cell_type": "code",
   "execution_count": 6,
   "id": "9c120099",
   "metadata": {},
   "outputs": [
    {
     "name": "stdout",
     "output_type": "stream",
     "text": [
      "Enter the table you want : 11\n",
      "Enter the start number : 1\n",
      "Enter the limit : 11\n",
      "11 * 1 = 11\n",
      "11 * 2 = 22\n",
      "11 * 3 = 33\n",
      "11 * 4 = 44\n",
      "11 * 5 = 55\n",
      "11 * 6 = 66\n",
      "11 * 7 = 77\n",
      "11 * 8 = 88\n",
      "11 * 9 = 99\n",
      "11 * 10 = 110\n",
      "11 * 11 = 121\n"
     ]
    }
   ],
   "source": [
    "# write a program to print multiplication table of a given number(input)\n",
    "table=int(input(\"Enter the table you want : \"))\n",
    "start=int(input(\"Enter the start number : \"))    \n",
    "limit=int(input(\"Enter the limit : \"))\n",
    "while (start<=limit):\n",
    "    print(table ,\"*\",start,\"=\" , table*start )\n",
    "    start=start+1"
   ]
  },
  {
   "cell_type": "code",
   "execution_count": 7,
   "id": "569cc139",
   "metadata": {},
   "outputs": [
    {
     "name": "stdout",
     "output_type": "stream",
     "text": [
      "Enter a number : 45678910\n",
      "the total digits in num is :  8\n"
     ]
    }
   ],
   "source": [
    "# write program to count the total number of digits in a number of digits in a number using a while loop\n",
    "num=int(input(\"Enter a number : \"))\n",
    "count=0\n",
    "while num>0:\n",
    "    count=count+1\n",
    "    num =num//10\n",
    "    \n",
    "print(\"the total digits in num is : \",count)"
   ]
  },
  {
   "cell_type": "code",
   "execution_count": 8,
   "id": "5a6ff223",
   "metadata": {},
   "outputs": [
    {
     "name": "stdout",
     "output_type": "stream",
     "text": [
      "Enter a number : 5678321\n",
      "the total digits in num is :  7\n"
     ]
    }
   ],
   "source": [
    "num=int(input(\"Enter a number : \"))\n",
    "for i in (0,len(str(num))):\n",
    "    if i!=0:\n",
    "        print(\"the total digits in num is : \",i)"
   ]
  },
  {
   "cell_type": "code",
   "execution_count": 10,
   "id": "499c97cc",
   "metadata": {},
   "outputs": [
    {
     "name": "stdout",
     "output_type": "stream",
     "text": [
      "Enter a range : 15\n",
      "Enter the number want to guess : 5\n",
      "well guessed\n"
     ]
    }
   ],
   "source": [
    "# write a python program to guess a number between 1to\n",
    "a=int(input(\"Enter a range : \"))\n",
    "b=int(input(\"Enter the number want to guess : \"))\n",
    "for i in range(0,a):\n",
    "    if b!=5:        \n",
    "        print(\"Wrong guess\")\n",
    "        break\n",
    "    elif b==5:\n",
    "        print(\"well guessed\")\n",
    "        break"
   ]
  },
  {
   "cell_type": "code",
   "execution_count": 11,
   "id": "6e8a9669",
   "metadata": {},
   "outputs": [
    {
     "name": "stdout",
     "output_type": "stream",
     "text": [
      "FizzBuzz\n",
      "1\n",
      "2\n",
      "Fizz\n",
      "4\n",
      "Buzz\n",
      "Fizz\n",
      "7\n",
      "8\n",
      "Fizz\n",
      "Buzz\n",
      "11\n",
      "Fizz\n",
      "13\n",
      "14\n",
      "FizzBuzz\n",
      "16\n",
      "17\n",
      "Fizz\n",
      "19\n",
      "Buzz\n",
      "Fizz\n",
      "22\n",
      "23\n",
      "Fizz\n",
      "Buzz\n",
      "26\n",
      "Fizz\n",
      "28\n",
      "29\n",
      "FizzBuzz\n",
      "31\n",
      "32\n",
      "Fizz\n",
      "34\n",
      "Buzz\n",
      "Fizz\n",
      "37\n",
      "38\n",
      "Fizz\n",
      "Buzz\n",
      "41\n",
      "Fizz\n",
      "43\n",
      "44\n",
      "FizzBuzz\n",
      "46\n",
      "47\n",
      "Fizz\n",
      "49\n",
      "Buzz\n",
      "Fizz\n",
      "52\n",
      "53\n",
      "Fizz\n",
      "Buzz\n",
      "56\n",
      "Fizz\n",
      "58\n",
      "59\n",
      "FizzBuzz\n"
     ]
    }
   ],
   "source": [
    "# write a python program which iterates the integers from 1 to 60.for multiples of three print \"fizz\" instead of the number and for multiples of five print\"buzz\".for number which are multiples of both three and five print \"fizzbuzz\"\n",
    "for num1 in range(61):\n",
    "    \n",
    "    if num1%3==0 and num1%5==0:\n",
    "        print(\"FizzBuzz\")\n",
    "        continue\n",
    "    elif num1%3==0:\n",
    "        print(\"Fizz\")\n",
    "        continue\n",
    "    elif num1%5==0:\n",
    "        print(\"Buzz\")\n",
    "        continue\n",
    "    print(num1)"
   ]
  },
  {
   "cell_type": "code",
   "execution_count": 12,
   "id": "5d1e849e",
   "metadata": {},
   "outputs": [
    {
     "name": "stdout",
     "output_type": "stream",
     "text": [
      "FizzBuzz\n",
      "0\n",
      "1\n",
      "2\n",
      "Fizz\n",
      "3\n",
      "4\n",
      "Buzz\n",
      "5\n",
      "Fizz\n",
      "6\n",
      "7\n",
      "8\n",
      "Fizz\n",
      "9\n",
      "Buzz\n",
      "10\n",
      "11\n",
      "Fizz\n",
      "12\n",
      "13\n",
      "14\n",
      "FizzBuzz\n",
      "15\n",
      "16\n",
      "17\n",
      "Fizz\n",
      "18\n",
      "19\n",
      "Buzz\n",
      "20\n",
      "Fizz\n",
      "21\n",
      "22\n",
      "23\n",
      "Fizz\n",
      "24\n",
      "Buzz\n",
      "25\n",
      "26\n",
      "Fizz\n",
      "27\n",
      "28\n",
      "29\n",
      "FizzBuzz\n",
      "30\n",
      "31\n",
      "32\n",
      "Fizz\n",
      "33\n",
      "34\n",
      "Buzz\n",
      "35\n",
      "Fizz\n",
      "36\n",
      "37\n",
      "38\n",
      "Fizz\n",
      "39\n",
      "Buzz\n",
      "40\n",
      "41\n",
      "Fizz\n",
      "42\n",
      "43\n",
      "44\n",
      "FizzBuzz\n",
      "45\n",
      "46\n",
      "47\n",
      "Fizz\n",
      "48\n",
      "49\n",
      "Buzz\n",
      "50\n",
      "Fizz\n",
      "51\n",
      "52\n",
      "53\n",
      "Fizz\n",
      "54\n",
      "Buzz\n",
      "55\n",
      "56\n",
      "Fizz\n",
      "57\n",
      "58\n",
      "59\n",
      "FizzBuzz\n",
      "60\n"
     ]
    }
   ],
   "source": [
    "#num1=int(input(\"Enter a number : \"))\n",
    "num1=0\n",
    "while num1<=60:\n",
    "    if num1%3==0 and num1%5==0:\n",
    "        print(\"FizzBuzz\")\n",
    "        \n",
    "    elif num1%3==0:\n",
    "        print(\"Fizz\")\n",
    "        \n",
    "    elif num1%5==0:\n",
    "        print(\"Buzz\")   \n",
    "    print(num1)\n",
    "    num1=num1+1"
   ]
  },
  {
   "cell_type": "code",
   "execution_count": 13,
   "id": "88f3df34",
   "metadata": {},
   "outputs": [
    {
     "name": "stdout",
     "output_type": "stream",
     "text": [
      "Enter a string : 6\n",
      "no of letters :  0\n",
      "no of numbers :  1\n"
     ]
    }
   ],
   "source": [
    "# write a python program that accept a string and calculate the number of digits and letters\n",
    "str1=str(input(\"Enter a string : \"))\n",
    "letter=0\n",
    "number=0\n",
    "for i in str1:\n",
    "    if i.isalpha():\n",
    "        letter=letter+1\n",
    "    elif i.isdigit():\n",
    "        number=number+1\n",
    "    else:\n",
    "        pass\n",
    "print(\"no of letters : \",letter)\n",
    "print(\"no of numbers : \",number)"
   ]
  },
  {
   "cell_type": "code",
   "execution_count": 14,
   "id": "76b4183b",
   "metadata": {},
   "outputs": [
    {
     "name": "stdout",
     "output_type": "stream",
     "text": [
      "Enter a password : 1234\n",
      "Your Password must contain atleast 6 charecters\n"
     ]
    }
   ],
   "source": [
    "# write a python program to check the validity of password input by users.\n",
    "password=input(\"Enter a password : \")\n",
    "lowercase=0\n",
    "uppercase=0\n",
    "num=0\n",
    "sym=0\n",
    "symbol=[\"@\",\"$\",\"#\"]\n",
    "for elements in password:\n",
    "    if elements.isalpha():\n",
    "        if elements==elements.upper():\n",
    "            uppercase+=1\n",
    "        elif elements==elements.lower():\n",
    "            lowercase+=1\n",
    "    elif elements in symbol:\n",
    "        sym+=1\n",
    "    elif int(elements) in range(0,10):\n",
    "        num+=1\n",
    "if len(password)<6:\n",
    "    print(\"Your Password must contain atleast 6 charecters\")\n",
    "elif len(password)>16:\n",
    "    print(\"Your Password length is greater than limits, Please reduce some charecters\")\n",
    "elif num==0:\n",
    "    print(\"Please include numbers inside your password\")\n",
    "elif uppercase==0:\n",
    "    print(\"Please include upperr case letters inside your password\")\n",
    "elif lowercase==0:\n",
    "    print(\"Please include lower case letters inside your password\")\n",
    "else:\n",
    "    print(\"OK\\nYou have given valid Password.\")"
   ]
  },
  {
   "cell_type": "code",
   "execution_count": 15,
   "id": "a5f2c133",
   "metadata": {},
   "outputs": [
    {
     "name": "stdout",
     "output_type": "stream",
     "text": [
      "Enter a string : vy@dehi\n",
      "The reverse string is :  ihed@yv\n"
     ]
    }
   ],
   "source": [
    "# write a program in python to reverse a word by using while loop\n",
    "str2=str(input(\"Enter a string : \"))\n",
    "reverse=\"\"\n",
    "length=len(str2)-1\n",
    "while length>=0:\n",
    "    reverse=reverse+str2[length]\n",
    "    length=length-1\n",
    "print(\"The reverse string is : \",reverse)"
   ]
  },
  {
   "cell_type": "code",
   "execution_count": 16,
   "id": "c907052e",
   "metadata": {},
   "outputs": [
    {
     "name": "stdout",
     "output_type": "stream",
     "text": [
      "Enter a number : 67\n",
      "Enter a number : 78\n",
      "Enter a number : 89\n",
      "Enter a number : 90\n",
      "Enter a number : 88\n",
      "Enter a number : 12\n",
      "Enter a number : 23\n",
      "Enter a number : 34\n",
      "Enter a number : 56\n",
      "Enter a number : 67\n",
      "the avg value is :  60.0\n"
     ]
    }
   ],
   "source": [
    "# write a program which takes 10 integer as input using loop and print their average value on the screen\n",
    "sum1=0\n",
    "for i in range(10):\n",
    "    num=float(input(\"Enter a number : \"))\n",
    "    sum1=sum1+num\n",
    "avg=sum1//10\n",
    "print(\"the avg value is : \",avg)\n"
   ]
  },
  {
   "cell_type": "code",
   "execution_count": null,
   "id": "6b0e8a1b",
   "metadata": {},
   "outputs": [
    {
     "name": "stdout",
     "output_type": "stream",
     "text": [
      "enter numbers in the provided boxes findout their average and the product :\n",
      "give a number : 12\n",
      "if you want to exit press - q\n",
      "give a number : 23\n",
      "if you want to exit press - q\n",
      "give a number : 34\n",
      "if you want to exit press - q\n",
      "give a number : 45\n",
      "if you want to exit press - q\n",
      "give a number : 56\n",
      "if you want to exit press - q\n",
      "give a number : 67\n",
      "if you want to exit press - q\n",
      "give a number : 78\n",
      "if you want to exit press - q\n",
      "give a number : 89\n",
      "if you want to exit press - q\n",
      "give a number : 90\n",
      "if you want to exit press - q\n",
      "give a number : 100\n",
      "if you want to exit press - q\n",
      "give a number : 1000\n",
      "if you want to exit press - q\n",
      "give a number : 70\n",
      "if you want to exit press - q\n",
      "give a number : 234\n",
      "if you want to exit press - q\n",
      "give a number : 58\n",
      "if you want to exit press - q\n",
      "give a number : 40\n",
      "if you want to exit press - q\n"
     ]
    }
   ],
   "source": [
    "# write a program which takes integer inputs from user until he\\she presses\"q\"print average and product of all numbers.\n",
    "print(\"enter numbers in the provided boxes findout their average and the product :\")\n",
    "numbers=[]\n",
    "newnum=[]\n",
    "product=1\n",
    "while True:\n",
    "    num=input(\"give a number : \")\n",
    "    if num==\"q\":\n",
    "        break\n",
    "    print(\"if you want to exit press - q\")\n",
    "    numbers.append(num)\n",
    "for j in numbers:\n",
    "    a=int(j)\n",
    "    newnum.append(a)\n",
    "for i in newnum:\n",
    "    product=product*i\n",
    "total=sum(newnum)\n",
    "average=total/len(newnum)\n",
    "print(\"\\nProduct = {}\".format(product))\n",
    "print(\"Average = {}\".format(average))"
   ]
  },
  {
   "cell_type": "code",
   "execution_count": 1,
   "id": "0475ca7d",
   "metadata": {},
   "outputs": [
    {
     "name": "stdout",
     "output_type": "stream",
     "text": [
      "Type your input here : 67\n",
      "\n"
     ]
    }
   ],
   "source": [
    "#write a python program which will remove all digits or any other character from the string except alphabets\n",
    "name=input(\"Type your input here : \")\n",
    "new=\"\"\n",
    "for letters in name:\n",
    "    if letters.isalpha():\n",
    "        new+=letters\n",
    "    else:\n",
    "        continue\n",
    "print(new)"
   ]
  },
  {
   "cell_type": "code",
   "execution_count": 2,
   "id": "1be9961c",
   "metadata": {},
   "outputs": [
    {
     "name": "stdout",
     "output_type": "stream",
     "text": [
      "Type your input here : vydehi\n",
      "vydehi\n"
     ]
    }
   ],
   "source": [
    "name=input(\"Type your input here : \")\n",
    "new=\"\"\n",
    "x=True\n",
    "while x:\n",
    "    for letters in name:\n",
    "        if letters.isalpha():\n",
    "            new+=letters\n",
    "        else:\n",
    "            continue\n",
    "    x=False\n",
    "print(new)"
   ]
  },
  {
   "cell_type": "code",
   "execution_count": 3,
   "id": "314e296c",
   "metadata": {},
   "outputs": [
    {
     "name": "stdout",
     "output_type": "stream",
     "text": [
      "Sum of all even numbers from 0 to 10 are :-. 30\n"
     ]
    }
   ],
   "source": [
    "# write a python program to find thhe sum of all even numbers from 0 to 10\n",
    "total=0\n",
    "for num in range(0,11):\n",
    "    if num%2==0:\n",
    "        total+=num\n",
    "print(\"Sum of all even numbers from 0 to 10 are :-. {}\".format(total))"
   ]
  },
  {
   "cell_type": "code",
   "execution_count": 4,
   "id": "e69fcdeb",
   "metadata": {},
   "outputs": [
    {
     "name": "stdout",
     "output_type": "stream",
     "text": [
      "Sum of all even numbers from 0 to 10 are :-. 30\n"
     ]
    }
   ],
   "source": [
    "total=0\n",
    "x=True\n",
    "while x:\n",
    "    for num in range(0,11):\n",
    "        if num%2==0:\n",
    "            total+=num\n",
    "    x=False\n",
    "print(\"Sum of all even numbers from 0 to 10 are :-. {}\".format(total))"
   ]
  },
  {
   "cell_type": "code",
   "execution_count": 5,
   "id": "c9267048",
   "metadata": {},
   "outputs": [
    {
     "name": "stdout",
     "output_type": "stream",
     "text": [
      "Provide a number : 34\n",
      "34\n",
      "33\n",
      "32\n",
      "31\n",
      "30\n",
      "29\n",
      "28\n",
      "27\n",
      "26\n",
      "25\n",
      "24\n",
      "23\n",
      "22\n",
      "21\n",
      "20\n",
      "19\n",
      "18\n",
      "17\n",
      "16\n",
      "15\n",
      "14\n",
      "13\n",
      "12\n",
      "11\n",
      "10\n",
      "9\n",
      "8\n",
      "7\n",
      "6\n",
      "5\n",
      "4\n",
      "3\n",
      "2\n",
      "1\n",
      "0\n"
     ]
    }
   ],
   "source": [
    "# write a python program which will accept a digit and print all the numbers before it till 0\n",
    "number=int(input(\"Provide a number : \"))\n",
    "\n",
    "while number>=0:\n",
    "    print(number)\n",
    "    number-=1"
   ]
  },
  {
   "cell_type": "code",
   "execution_count": 6,
   "id": "ccd94bd5",
   "metadata": {},
   "outputs": [
    {
     "name": "stdout",
     "output_type": "stream",
     "text": [
      "num 1 : 12\n",
      "choose any symbol from +,-,*,/ : *\n",
      "num 2 : 4\n",
      "12 * 4 = 48\n",
      "Press c to close : c\n"
     ]
    }
   ],
   "source": [
    "# create a dynamic calculator which will run continually till press \"c\"\n",
    "a=int(input(\"num 1 : \"))\n",
    "x=input(\"choose any symbol from +,-,*,/ : \")\n",
    "b=int(input(\"num 2 : \"))\n",
    "while True:\n",
    "    if x==\"+\":\n",
    "        print(\"{} {} {} = {}\".format(a,x,b,a+b))\n",
    "    elif x==\"-\":\n",
    "        print(\"{} {} {} = {}\".format(a,x,b,a-b))\n",
    "    elif x==\"*\":\n",
    "        print(\"{} {} {} = {}\".format(a,x,b,a*b))\n",
    "    elif x==\"/\":\n",
    "        print(\"{} {} {} = {}\".format(a,x,b,a/b))\n",
    "    new=input(\"Press c to close : \")\n",
    "    if new==\"c\" or new==\"C\":\n",
    "        break"
   ]
  },
  {
   "cell_type": "code",
   "execution_count": null,
   "id": "f81686c2",
   "metadata": {},
   "outputs": [],
   "source": []
  }
 ],
 "metadata": {
  "kernelspec": {
   "display_name": "Python 3 (ipykernel)",
   "language": "python",
   "name": "python3"
  },
  "language_info": {
   "codemirror_mode": {
    "name": "ipython",
    "version": 3
   },
   "file_extension": ".py",
   "mimetype": "text/x-python",
   "name": "python",
   "nbconvert_exporter": "python",
   "pygments_lexer": "ipython3",
   "version": "3.9.13"
  }
 },
 "nbformat": 4,
 "nbformat_minor": 5
}
